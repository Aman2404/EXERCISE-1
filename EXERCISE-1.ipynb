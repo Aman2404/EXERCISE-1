{
 "cells": [
  {
   "attachments": {},
   "cell_type": "markdown",
   "metadata": {},
   "source": [
    "## Problem 1 - Defining some variables\n",
    "\n",
    "In the top cell of the new notebook:\n",
    "\n",
    "1. Create a variable called `ice_cream_rating` and use it to store an integer value (whole number) between 0 and 10 that reflects your general opinion about how much you enjoy eating ice cream.\n",
    "\n",
    "2. Create another variable called `sleeping_rating` and use it to store another integer between 0 and 10 that reflects your opinion about how much you enjoy sleeping.\n"
   ]
  },
  {
   "cell_type": "code",
   "execution_count": 1,
   "metadata": {},
   "outputs": [],
   "source": [
    "ice_cream_rating=10"
   ]
  },
  {
   "cell_type": "code",
   "execution_count": 3,
   "metadata": {},
   "outputs": [],
   "source": [
    "sleeping_rating=8"
   ]
  },
  {
   "attachments": {},
   "cell_type": "markdown",
   "metadata": {},
   "source": [
    "## Problem 2 - Reading in variable values\n",
    "\n",
    "In the new cell that appears:\n",
    "\n",
    "1. Use the `input()` function to prompt the user to enter their first name and store it in a variable called `first_name`.\n",
    "\n",
    "2. Use the `input()` function again to prompt the user to enter their last name and store it in a variable called `last_name`.\n",
    "\n",
    "3. (*Optional*) Define a third variable called `my_name` that will combine the user's first and last names into a single character string with a space between the names."
   ]
  }
 ],
 "metadata": {
  "kernelspec": {
   "display_name": "yolox",
   "language": "python",
   "name": "yolox"
  },
  "language_info": {
   "codemirror_mode": {
    "name": "ipython",
    "version": 3
   },
   "file_extension": ".py",
   "mimetype": "text/x-python",
   "name": "python",
   "nbconvert_exporter": "python",
   "pygments_lexer": "ipython3",
   "version": "3.9.13"
  },
  "orig_nbformat": 4
 },
 "nbformat": 4,
 "nbformat_minor": 2
}
